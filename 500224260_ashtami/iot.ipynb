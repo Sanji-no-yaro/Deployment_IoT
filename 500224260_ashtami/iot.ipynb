{
 "cells": [
  {
   "cell_type": "code",
   "execution_count": 5,
   "metadata": {},
   "outputs": [
    {
     "name": "stdout",
     "output_type": "stream",
     "text": [
      "Requirement already satisfied: pandas in /Users/kalyani/Desktop/untitled folder 2/Deployment_IoT/.venv/lib/python3.10/site-packages (from -r requirements.txt (line 1)) (2.2.2)\n",
      "Requirement already satisfied: numpy in /Users/kalyani/Desktop/untitled folder 2/Deployment_IoT/.venv/lib/python3.10/site-packages (from -r requirements.txt (line 2)) (2.0.1)\n",
      "Requirement already satisfied: scikit-learn in /Users/kalyani/Desktop/untitled folder 2/Deployment_IoT/.venv/lib/python3.10/site-packages (from -r requirements.txt (line 3)) (1.5.1)\n",
      "Requirement already satisfied: flask in /Users/kalyani/Desktop/untitled folder 2/Deployment_IoT/.venv/lib/python3.10/site-packages (from -r requirements.txt (line 4)) (3.0.3)\n",
      "Requirement already satisfied: joblib in /Users/kalyani/Desktop/untitled folder 2/Deployment_IoT/.venv/lib/python3.10/site-packages (from -r requirements.txt (line 5)) (1.4.2)\n",
      "Requirement already satisfied: python-dateutil>=2.8.2 in /Users/kalyani/Desktop/untitled folder 2/Deployment_IoT/.venv/lib/python3.10/site-packages (from pandas->-r requirements.txt (line 1)) (2.9.0.post0)\n",
      "Requirement already satisfied: pytz>=2020.1 in /Users/kalyani/Desktop/untitled folder 2/Deployment_IoT/.venv/lib/python3.10/site-packages (from pandas->-r requirements.txt (line 1)) (2024.1)\n",
      "Requirement already satisfied: tzdata>=2022.7 in /Users/kalyani/Desktop/untitled folder 2/Deployment_IoT/.venv/lib/python3.10/site-packages (from pandas->-r requirements.txt (line 1)) (2024.1)\n",
      "Requirement already satisfied: threadpoolctl>=3.1.0 in /Users/kalyani/Desktop/untitled folder 2/Deployment_IoT/.venv/lib/python3.10/site-packages (from scikit-learn->-r requirements.txt (line 3)) (3.5.0)\n",
      "Requirement already satisfied: scipy>=1.6.0 in /Users/kalyani/Desktop/untitled folder 2/Deployment_IoT/.venv/lib/python3.10/site-packages (from scikit-learn->-r requirements.txt (line 3)) (1.14.0)\n",
      "Requirement already satisfied: click>=8.1.3 in /Users/kalyani/Desktop/untitled folder 2/Deployment_IoT/.venv/lib/python3.10/site-packages (from flask->-r requirements.txt (line 4)) (8.1.7)\n",
      "Requirement already satisfied: Werkzeug>=3.0.0 in /Users/kalyani/Desktop/untitled folder 2/Deployment_IoT/.venv/lib/python3.10/site-packages (from flask->-r requirements.txt (line 4)) (3.0.3)\n",
      "Requirement already satisfied: Jinja2>=3.1.2 in /Users/kalyani/Desktop/untitled folder 2/Deployment_IoT/.venv/lib/python3.10/site-packages (from flask->-r requirements.txt (line 4)) (3.1.4)\n",
      "Requirement already satisfied: itsdangerous>=2.1.2 in /Users/kalyani/Desktop/untitled folder 2/Deployment_IoT/.venv/lib/python3.10/site-packages (from flask->-r requirements.txt (line 4)) (2.2.0)\n",
      "Requirement already satisfied: blinker>=1.6.2 in /Users/kalyani/Desktop/untitled folder 2/Deployment_IoT/.venv/lib/python3.10/site-packages (from flask->-r requirements.txt (line 4)) (1.8.2)\n",
      "Requirement already satisfied: MarkupSafe>=2.0 in /Users/kalyani/Desktop/untitled folder 2/Deployment_IoT/.venv/lib/python3.10/site-packages (from Jinja2>=3.1.2->flask->-r requirements.txt (line 4)) (2.1.5)\n",
      "Requirement already satisfied: six>=1.5 in /Users/kalyani/Desktop/untitled folder 2/Deployment_IoT/.venv/lib/python3.10/site-packages (from python-dateutil>=2.8.2->pandas->-r requirements.txt (line 1)) (1.16.0)\n",
      "\n",
      "\u001b[1m[\u001b[0m\u001b[34;49mnotice\u001b[0m\u001b[1;39;49m]\u001b[0m\u001b[39;49m A new release of pip available: \u001b[0m\u001b[31;49m22.3.1\u001b[0m\u001b[39;49m -> \u001b[0m\u001b[32;49m24.2\u001b[0m\n",
      "\u001b[1m[\u001b[0m\u001b[34;49mnotice\u001b[0m\u001b[1;39;49m]\u001b[0m\u001b[39;49m To update, run: \u001b[0m\u001b[32;49mpip install --upgrade pip\u001b[0m\n"
     ]
    }
   ],
   "source": [
    "!pip install -r requirements.txt"
   ]
  },
  {
   "cell_type": "code",
   "execution_count": 6,
   "metadata": {},
   "outputs": [
    {
     "name": "stdout",
     "output_type": "stream",
     "text": [
      "Model trained and saved as 'model.joblib'.\n",
      "The predicted value is: 159220.29775290677\n"
     ]
    },
    {
     "name": "stderr",
     "output_type": "stream",
     "text": [
      "/Users/kalyani/Desktop/untitled folder 2/Deployment_IoT/.venv/lib/python3.10/site-packages/sklearn/base.py:493: UserWarning: X does not have valid feature names, but LinearRegression was fitted with feature names\n",
      "  warnings.warn(\n"
     ]
    }
   ],
   "source": [
    "import pandas as pd\n",
    "from sklearn.linear_model import LinearRegression\n",
    "import joblib\n",
    "import numpy as np\n",
    "\n",
    "# Load the dataset from CSV\n",
    "df = pd.read_csv('sample/data.csv')\n",
    "\n",
    "# Define features and target variable\n",
    "X = df[['feature1', 'feature2']]\n",
    "y = df['target']\n",
    "\n",
    "# Train the model\n",
    "model = LinearRegression()\n",
    "model.fit(X, y)\n",
    "\n",
    "# Save the trained model\n",
    "joblib.dump(model, 'iot.joblib')\n",
    "\n",
    "print(\"Model trained and saved as 'model.joblib'.\")\n",
    "\n",
    "# Function to make predictions\n",
    "def make_prediction(feature1, feature2):\n",
    "    # Load the model\n",
    "    model = joblib.load('iot.joblib')\n",
    "    # Prepare the feature vector\n",
    "    features = np.array([[feature1, feature2]])\n",
    "    # Make prediction\n",
    "    prediction = model.predict(features)\n",
    "    return prediction[0]\n",
    "\n",
    "if __name__ == \"__main__\":\n",
    "    # Accept input from the user\n",
    "    feature1 = float(input(\"Enter value for feature1: \"))\n",
    "    feature2 = float(input(\"Enter value for feature2: \"))\n",
    "    \n",
    "    # Make prediction\n",
    "    prediction = make_prediction(feature1, feature2)\n",
    "    print(f\"The predicted value is: {prediction}\")"
   ]
  }
 ],
 "metadata": {
  "kernelspec": {
   "display_name": "Python 3",
   "language": "python",
   "name": "python3"
  },
  "language_info": {
   "codemirror_mode": {
    "name": "ipython",
    "version": 3
   },
   "file_extension": ".py",
   "mimetype": "text/x-python",
   "name": "python",
   "nbconvert_exporter": "python",
   "pygments_lexer": "ipython3",
   "version": "3.10.9"
  }
 },
 "nbformat": 4,
 "nbformat_minor": 2
}
