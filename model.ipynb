{
 "cells": [
  {
   "cell_type": "code",
   "execution_count": 4,
   "metadata": {},
   "outputs": [
    {
     "name": "stdout",
     "output_type": "stream",
     "text": [
      "Requirement already satisfied: pandas in ./.venv/lib/python3.10/site-packages (from -r requirements.txt (line 1)) (2.2.2)\n",
      "Requirement already satisfied: numpy in ./.venv/lib/python3.10/site-packages (from -r requirements.txt (line 2)) (2.0.1)\n",
      "Requirement already satisfied: scikit-learn in ./.venv/lib/python3.10/site-packages (from -r requirements.txt (line 3)) (1.5.1)\n",
      "Requirement already satisfied: flask in ./.venv/lib/python3.10/site-packages (from -r requirements.txt (line 4)) (3.0.3)\n",
      "Requirement already satisfied: joblib in ./.venv/lib/python3.10/site-packages (from -r requirements.txt (line 5)) (1.4.2)\n",
      "Requirement already satisfied: python-dateutil>=2.8.2 in ./.venv/lib/python3.10/site-packages (from pandas->-r requirements.txt (line 1)) (2.9.0.post0)\n",
      "Requirement already satisfied: tzdata>=2022.7 in ./.venv/lib/python3.10/site-packages (from pandas->-r requirements.txt (line 1)) (2024.1)\n",
      "Requirement already satisfied: pytz>=2020.1 in ./.venv/lib/python3.10/site-packages (from pandas->-r requirements.txt (line 1)) (2024.1)\n",
      "Requirement already satisfied: scipy>=1.6.0 in ./.venv/lib/python3.10/site-packages (from scikit-learn->-r requirements.txt (line 3)) (1.14.0)\n",
      "Requirement already satisfied: threadpoolctl>=3.1.0 in ./.venv/lib/python3.10/site-packages (from scikit-learn->-r requirements.txt (line 3)) (3.5.0)\n",
      "Requirement already satisfied: click>=8.1.3 in ./.venv/lib/python3.10/site-packages (from flask->-r requirements.txt (line 4)) (8.1.7)\n",
      "Requirement already satisfied: itsdangerous>=2.1.2 in ./.venv/lib/python3.10/site-packages (from flask->-r requirements.txt (line 4)) (2.2.0)\n",
      "Requirement already satisfied: Werkzeug>=3.0.0 in ./.venv/lib/python3.10/site-packages (from flask->-r requirements.txt (line 4)) (3.0.3)\n",
      "Requirement already satisfied: Jinja2>=3.1.2 in ./.venv/lib/python3.10/site-packages (from flask->-r requirements.txt (line 4)) (3.1.4)\n",
      "Requirement already satisfied: blinker>=1.6.2 in ./.venv/lib/python3.10/site-packages (from flask->-r requirements.txt (line 4)) (1.8.2)\n",
      "Requirement already satisfied: MarkupSafe>=2.0 in ./.venv/lib/python3.10/site-packages (from Jinja2>=3.1.2->flask->-r requirements.txt (line 4)) (2.1.5)\n",
      "Requirement already satisfied: six>=1.5 in ./.venv/lib/python3.10/site-packages (from python-dateutil>=2.8.2->pandas->-r requirements.txt (line 1)) (1.16.0)\n"
     ]
    }
   ],
   "source": [
    "!pip install -r requirements.txt"
   ]
  },
  {
   "cell_type": "code",
   "execution_count": 7,
   "metadata": {},
   "outputs": [
    {
     "name": "stdout",
     "output_type": "stream",
     "text": [
      "Model trained and saved as 'model.joblib'.\n"
     ]
    },
    {
     "ename": "NameError",
     "evalue": "name '_name_' is not defined",
     "output_type": "error",
     "traceback": [
      "\u001b[0;31m---------------------------------------------------------------------------\u001b[0m",
      "\u001b[0;31mNameError\u001b[0m                                 Traceback (most recent call last)",
      "Cell \u001b[0;32mIn[7], line 32\u001b[0m\n\u001b[1;32m     29\u001b[0m     prediction \u001b[38;5;241m=\u001b[39m model\u001b[38;5;241m.\u001b[39mpredict(features)\n\u001b[1;32m     30\u001b[0m     \u001b[38;5;28;01mreturn\u001b[39;00m prediction[\u001b[38;5;241m0\u001b[39m]\n\u001b[0;32m---> 32\u001b[0m \u001b[38;5;28;01mif\u001b[39;00m \u001b[43m_name_\u001b[49m \u001b[38;5;241m==\u001b[39m \u001b[38;5;124m\"\u001b[39m\u001b[38;5;124m_main_\u001b[39m\u001b[38;5;124m\"\u001b[39m:\n\u001b[1;32m     33\u001b[0m     \u001b[38;5;66;03m# Accept input from the user\u001b[39;00m\n\u001b[1;32m     34\u001b[0m     feature1 \u001b[38;5;241m=\u001b[39m \u001b[38;5;28mfloat\u001b[39m(\u001b[38;5;28minput\u001b[39m(\u001b[38;5;124m\"\u001b[39m\u001b[38;5;124mEnter value for feature1: \u001b[39m\u001b[38;5;124m\"\u001b[39m))\n\u001b[1;32m     35\u001b[0m     feature2 \u001b[38;5;241m=\u001b[39m \u001b[38;5;28mfloat\u001b[39m(\u001b[38;5;28minput\u001b[39m(\u001b[38;5;124m\"\u001b[39m\u001b[38;5;124mEnter value for feature2: \u001b[39m\u001b[38;5;124m\"\u001b[39m))\n",
      "\u001b[0;31mNameError\u001b[0m: name '_name_' is not defined"
     ]
    }
   ],
   "source": [
    "import pandas as pd\n",
    "from sklearn.linear_model import LinearRegression\n",
    "import joblib\n",
    "import numpy as np\n",
    "\n",
    "# Load the dataset from CSV\n",
    "df = pd.read_csv('data/data.csv')\n",
    "\n",
    "# Define features and target variable\n",
    "X = df[['feature1', 'feature2']]\n",
    "y = df['target']\n",
    "\n",
    "# Train the model\n",
    "model = LinearRegression()\n",
    "model.fit(X, y)\n",
    "\n",
    "# Save the trained model\n",
    "joblib.dump(model, 'model.joblib')\n",
    "\n",
    "print(\"Model trained and saved as 'model.joblib'.\")\n",
    "\n",
    "# Function to make predictions\n",
    "def make_prediction(feature1, feature2):\n",
    "    # Load the model\n",
    "    model = joblib.load('model.joblib')\n",
    "    # Prepare the feature vector\n",
    "    features = np.array([[feature1, feature2]])\n",
    "    # Make prediction\n",
    "    prediction = model.predict(features)\n",
    "    return prediction[0]\n",
    "\n",
    "if __name__ == \"__main__\":\n",
    "    # Accept input from the user\n",
    "    feature1 = float(input(\"Enter value for feature1: \"))\n",
    "    feature2 = float(input(\"Enter value for feature2: \"))\n",
    "    \n",
    "    # Make prediction\n",
    "    prediction = make_prediction(feature1, feature2)\n",
    "    print(f\"The predicted value is: {prediction}\")"
   ]
  }
 ],
 "metadata": {
  "kernelspec": {
   "display_name": "Python 3.9.7 ('.venv': venv)",
   "language": "python",
   "name": "python3"
  },
  "language_info": {
   "codemirror_mode": {
    "name": "ipython",
    "version": 3
   },
   "file_extension": ".py",
   "mimetype": "text/x-python",
   "name": "python",
   "nbconvert_exporter": "python",
   "pygments_lexer": "ipython3",
   "version": "3.10.12"
  },
  "orig_nbformat": 4,
  "vscode": {
   "interpreter": {
    "hash": "95694a277545c5ad937c240b404acce8a65867121408b3b716e45d65ce3871bb"
   }
  }
 },
 "nbformat": 4,
 "nbformat_minor": 2
}
